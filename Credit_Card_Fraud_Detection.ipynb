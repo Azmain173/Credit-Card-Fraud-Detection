{
  "nbformat": 4,
  "nbformat_minor": 0,
  "metadata": {
    "colab": {
      "provenance": [],
      "authorship_tag": "ABX9TyOfI0PwB5/NSShYI52W1aLm",
      "include_colab_link": true
    },
    "kernelspec": {
      "name": "python3",
      "display_name": "Python 3"
    },
    "language_info": {
      "name": "python"
    }
  },
  "cells": [
    {
      "cell_type": "markdown",
      "metadata": {
        "id": "view-in-github",
        "colab_type": "text"
      },
      "source": [
        "<a href=\"https://colab.research.google.com/github/Azmain173/Credit-Card-Fraud-Detection/blob/main/Credit_Card_Fraud_Detection.ipynb\" target=\"_parent\"><img src=\"https://colab.research.google.com/assets/colab-badge.svg\" alt=\"Open In Colab\"/></a>"
      ]
    },
    {
      "cell_type": "code",
      "execution_count": 1,
      "metadata": {
        "colab": {
          "base_uri": "https://localhost:8080/"
        },
        "id": "RW4hlD9CKmvh",
        "outputId": "150278ac-2d42-4f57-c357-78aec49a7bf9"
      },
      "outputs": [
        {
          "output_type": "stream",
          "name": "stdout",
          "text": [
            "Time      0\n",
            "V1        0\n",
            "V2        0\n",
            "V3        0\n",
            "V4        0\n",
            "V5        0\n",
            "V6        0\n",
            "V7        0\n",
            "V8        0\n",
            "V9        0\n",
            "V10       0\n",
            "V11       0\n",
            "V12       0\n",
            "V13       0\n",
            "V14       0\n",
            "V15       0\n",
            "V16       0\n",
            "V17       0\n",
            "V18       0\n",
            "V19       0\n",
            "V20       0\n",
            "V21       0\n",
            "V22       0\n",
            "V23       0\n",
            "V24       0\n",
            "V25       0\n",
            "V26       0\n",
            "V27       0\n",
            "V28       0\n",
            "Amount    0\n",
            "Class     0\n",
            "dtype: int64\n",
            "Class\n",
            "0    0.998273\n",
            "1    0.001727\n",
            "Name: proportion, dtype: float64\n"
          ]
        }
      ],
      "source": [
        "import pandas as pd\n",
        "import numpy as np\n",
        "import matplotlib.pyplot as plt\n",
        "import seaborn as sns\n",
        "\n",
        "# Load data\n",
        "df = pd.read_csv(\"creditcard.csv\")\n",
        "\n",
        "# Check for missing values\n",
        "print(df.isnull().sum())\n",
        "\n",
        "# Check class distribution\n",
        "print(df[\"Class\"].value_counts(normalize=True))  # Show % of fraud vs. legit\n"
      ]
    },
    {
      "cell_type": "markdown",
      "source": [
        "Features: 30 numerical features (V1 to V28), Amount (transaction value), and Time (seconds elapsed).\n",
        "Target Variable (Class):\n",
        "0 → Legitimate Transaction\n",
        "1 → Fraudulent Transaction (~0.17% of total data - Highly imbalanced)"
      ],
      "metadata": {
        "id": "bvAaH6W-R-RF"
      }
    },
    {
      "cell_type": "code",
      "source": [
        "from sklearn.preprocessing import StandardScaler\n",
        "\n",
        "scaler = StandardScaler()\n",
        "df['Amount'] = scaler.fit_transform(df[['Amount']])\n"
      ],
      "metadata": {
        "id": "d4Y1_7BeRt9f"
      },
      "execution_count": 2,
      "outputs": []
    },
    {
      "cell_type": "markdown",
      "source": [
        "✅ Feature Engineering\n",
        "\n",
        "Drop highly correlated features\n",
        "Scale Amount feature using StandardScaler"
      ],
      "metadata": {
        "id": "vglrPCpRSB8R"
      }
    },
    {
      "cell_type": "markdown",
      "source": [
        "3️⃣ Handling Imbalanced Data\n",
        "📌 Since fraud cases are only 0.17%, the model may be biased towards non-fraud cases.\n",
        "📌 Solutions:\n",
        "\n",
        "Undersampling: Reduce normal transactions. (Risk: Losing valuable data)\n",
        "Oversampling (SMOTE): Generate synthetic fraud transactions."
      ],
      "metadata": {
        "id": "YuKy2gchSVSr"
      }
    },
    {
      "cell_type": "code",
      "source": [
        "from imblearn.over_sampling import SMOTE\n",
        "\n",
        "X = df.drop(columns=['Class'])\n",
        "y = df['Class']\n",
        "\n",
        "smote = SMOTE(sampling_strategy=0.5, random_state=42)\n",
        "X_resampled, y_resampled = smote.fit_resample(X, y)\n"
      ],
      "metadata": {
        "id": "PNvQm6MaRvRW"
      },
      "execution_count": 3,
      "outputs": []
    },
    {
      "cell_type": "code",
      "source": [
        "print(f\"Total duplicates: {df.duplicated().sum()}\")\n"
      ],
      "metadata": {
        "colab": {
          "base_uri": "https://localhost:8080/"
        },
        "id": "_FwZ6XUpV035",
        "outputId": "9625cb5d-9843-41ff-a778-582ec70de9d1"
      },
      "execution_count": 9,
      "outputs": [
        {
          "output_type": "stream",
          "name": "stdout",
          "text": [
            "Total duplicates: 1081\n"
          ]
        }
      ]
    },
    {
      "cell_type": "markdown",
      "source": [
        " Duplicate or Incorrect Data\n",
        "If you accidentally trained on duplicate data, models can achieve perfect scores.\n",
        "\n",
        "Fix: Check for duplicates:"
      ],
      "metadata": {
        "id": "PWnXYzW9X-GN"
      }
    },
    {
      "cell_type": "code",
      "source": [
        "df = df.drop_duplicates()\n"
      ],
      "metadata": {
        "id": "w0BiaO6UV5hb"
      },
      "execution_count": 10,
      "outputs": []
    },
    {
      "cell_type": "code",
      "source": [
        "from sklearn.model_selection import train_test_split\n",
        "\n",
        "X_train, X_test, y_train, y_test = train_test_split(X_resampled, y_resampled, test_size=0.2, random_state=42, stratify=y_resampled)\n"
      ],
      "metadata": {
        "id": "VvdXFVojRvOF"
      },
      "execution_count": 11,
      "outputs": []
    },
    {
      "cell_type": "code",
      "source": [],
      "metadata": {
        "id": "ch0-JC3mVz8i"
      },
      "execution_count": null,
      "outputs": []
    },
    {
      "cell_type": "code",
      "source": [
        "from sklearn.ensemble import RandomForestClassifier\n",
        "from xgboost import XGBClassifier\n",
        "from sklearn.metrics import classification_report\n",
        "\n",
        "# Model selection\n",
        "models = {\n",
        "    \"Random Forest\": RandomForestClassifier(n_estimators=100, random_state=42),\n",
        "    \"XGBoost\": XGBClassifier(use_label_encoder=False, eval_metric=\"logloss\")\n",
        "}\n",
        "\n",
        "for name, model in models.items():\n",
        "    model.fit(X_train, y_train)\n",
        "    y_pred = model.predict(X_test)\n",
        "    print(f\"\\n{name} Performance:\\n\")\n",
        "    print(classification_report(y_test, y_pred))\n"
      ],
      "metadata": {
        "colab": {
          "base_uri": "https://localhost:8080/"
        },
        "id": "gvQDcEFARvLd",
        "outputId": "af7a4f8a-5c93-4542-efaa-37d856c82a31"
      },
      "execution_count": 5,
      "outputs": [
        {
          "output_type": "stream",
          "name": "stdout",
          "text": [
            "\n",
            "Random Forest Performance:\n",
            "\n",
            "              precision    recall  f1-score   support\n",
            "\n",
            "           0       1.00      1.00      1.00     56863\n",
            "           1       1.00      1.00      1.00     28432\n",
            "\n",
            "    accuracy                           1.00     85295\n",
            "   macro avg       1.00      1.00      1.00     85295\n",
            "weighted avg       1.00      1.00      1.00     85295\n",
            "\n"
          ]
        },
        {
          "output_type": "stream",
          "name": "stderr",
          "text": [
            "/usr/local/lib/python3.11/dist-packages/xgboost/core.py:158: UserWarning: [05:38:59] WARNING: /workspace/src/learner.cc:740: \n",
            "Parameters: { \"use_label_encoder\" } are not used.\n",
            "\n",
            "  warnings.warn(smsg, UserWarning)\n"
          ]
        },
        {
          "output_type": "stream",
          "name": "stdout",
          "text": [
            "\n",
            "XGBoost Performance:\n",
            "\n",
            "              precision    recall  f1-score   support\n",
            "\n",
            "           0       1.00      1.00      1.00     56863\n",
            "           1       1.00      1.00      1.00     28432\n",
            "\n",
            "    accuracy                           1.00     85295\n",
            "   macro avg       1.00      1.00      1.00     85295\n",
            "weighted avg       1.00      1.00      1.00     85295\n",
            "\n"
          ]
        }
      ]
    },
    {
      "cell_type": "markdown",
      "source": [
        " Why XGBoost?\n",
        "\n",
        "Works well with imbalanced data\n",
        "Handles missing values efficiently"
      ],
      "metadata": {
        "id": "eGb0KyYITq4e"
      }
    },
    {
      "cell_type": "markdown",
      "source": [
        "5️⃣ Model Evaluation\n",
        "✅ Confusion Matrix & ROC Curve"
      ],
      "metadata": {
        "id": "Flv2zBZrTuhR"
      }
    },
    {
      "cell_type": "code",
      "source": [
        "from sklearn.metrics import confusion_matrix, roc_curve, auc\n",
        "\n",
        "# Confusion Matrix\n",
        "cm = confusion_matrix(y_test, y_pred)\n",
        "sns.heatmap(cm, annot=True, fmt='d')\n",
        "\n",
        "# ROC Curve\n",
        "fpr, tpr, _ = roc_curve(y_test, model.predict_proba(X_test)[:, 1])\n",
        "plt.plot(fpr, tpr, label=f\"AUC: {auc(fpr, tpr):.2f}\")\n",
        "plt.xlabel(\"False Positive Rate\")\n",
        "plt.ylabel(\"True Positive Rate\")\n",
        "plt.legend()\n",
        "plt.show()\n"
      ],
      "metadata": {
        "colab": {
          "base_uri": "https://localhost:8080/",
          "height": 449
        },
        "id": "p74TyoA-RvEc",
        "outputId": "fca1f203-e9a0-49bc-9159-e123f2d43274"
      },
      "execution_count": 6,
      "outputs": [
        {
          "output_type": "display_data",
          "data": {
            "text/plain": [
              "<Figure size 640x480 with 2 Axes>"
            ],
            "image/png": "[encoded data removed]"
          },
          "metadata": {}
        }
      ]
    },
    {
      "cell_type": "markdown",
      "source": [
        "Precision: How many predicted fraud cases are actually fraud?\n",
        "Recall: How many actual fraud cases were detected?\n",
        "AUC-ROC Score: Measures model's ability to distinguish fraud and non-fraud transactions."
      ],
      "metadata": {
        "id": "h6LICezuUFzp"
      }
    },
    {
      "cell_type": "code",
      "source": [
        "from sklearn.metrics import roc_auc_score, roc_curve\n",
        "\n",
        "plt.figure(figsize=(8,6))\n",
        "\n",
        "for name, model in models.items():\n",
        "    y_probs = model.predict_proba(X_test)[:,1]  # Get fraud probabilities\n",
        "    auc = roc_auc_score(y_test, y_probs)\n",
        "    fpr, tpr, _ = roc_curve(y_test, y_probs)\n",
        "\n",
        "    plt.plot(fpr, tpr, label=f\"{name} (AUC = {auc:.3f})\")\n",
        "\n",
        "plt.plot([0,1], [0,1], 'k--')  # Diagonal (random model)\n",
        "plt.xlabel(\"False Positive Rate\")\n",
        "plt.ylabel(\"True Positive Rate\")\n",
        "plt.title(\"ROC Curve\")\n",
        "plt.legend()\n",
        "plt.show()\n"
      ],
      "metadata": {
        "colab": {
          "base_uri": "https://localhost:8080/",
          "height": 564
        },
        "id": "JLv_zSTPVFgX",
        "outputId": "9bee8261-2d81-419d-a3d1-d8e5f943ef0d"
      },
      "execution_count": 8,
      "outputs": [
        {
          "output_type": "display_data",
          "data": {
            "text/plain": [
              "<Figure size 800x600 with 1 Axes>"
            ],
            "image/png": "[encoded data removed]"
          },
          "metadata": {}
        }
      ]
    },
    {
      "cell_type": "markdown",
      "source": [
        "Random Forest and XGBoost models are giving 100% accuracy, precision, recall, and F1-score on both classes. This is extremely rare in real-world fraud detection"
      ],
      "metadata": {
        "id": "WLmCGmHoYGB3"
      }
    },
    {
      "cell_type": "markdown",
      "source": [
        "Overfitting Due to Small Dataset\n",
        "If the dataset is too small, the models may just memorize the training data.\n",
        "\n",
        "Fix: Try cross-validation instead of a single train-test split:"
      ],
      "metadata": {
        "id": "_-G-I1QwYF6O"
      }
    },
    {
      "cell_type": "markdown",
      "source": [
        "Instead of .fit() and .predict() on just one train-test split, apply cross-validation for better accuracy estimation.\n",
        "\n",
        "Option 1: Using cross_val_score() (Quick Check)\n",
        "Use cross-validation with 5 folds to see how your models perform across different splits.\n",
        "\n"
      ],
      "metadata": {
        "id": "kKUGB5YmYFw_"
      }
    },
    {
      "cell_type": "code",
      "source": [
        "from sklearn.model_selection import cross_val_score\n",
        "\n",
        "rf_model = RandomForestClassifier(n_estimators=100, random_state=42)\n",
        "xgb_model = XGBClassifier(use_label_encoder=False, eval_metric=\"logloss\")\n",
        "\n",
        "rf_scores = cross_val_score(rf_model, X, y, cv=5, scoring='accuracy')\n",
        "xgb_scores = cross_val_score(xgb_model, X, y, cv=5, scoring='accuracy')\n",
        "\n",
        "print(f\"Random Forest CV Accuracy: {rf_scores.mean():.4f} ± {rf_scores.std():.4f}\")\n",
        "print(f\"XGBoost CV Accuracy: {xgb_scores.mean():.4f} ± {xgb_scores.std():.4f}\")\n"
      ],
      "metadata": {
        "id": "0qjZX2oZdt7-"
      },
      "execution_count": null,
      "outputs": []
    },
    {
      "cell_type": "code",
      "source": [
        "from sklearn.model_selection import cross_val_predict\n",
        "from sklearn.metrics import confusion_matrix, classification_report\n",
        "\n",
        "y_pred_rf = cross_val_predict(rf_model, X, y, cv=5)\n",
        "y_pred_xgb = cross_val_predict(xgb_model, X, y, cv=5)\n",
        "\n",
        "print(\"Random Forest CV Classification Report:\\n\", classification_report(y, y_pred_rf))\n",
        "print(\"XGBoost CV Classification Report:\\n\", classification_report(y, y_pred_xgb))\n",
        "\n",
        "# Confusion Matrix\n",
        "cm_rf = confusion_matrix(y, y_pred_rf)\n",
        "cm_xgb = confusion_matrix(y, y_pred_xgb)\n",
        "\n",
        "sns.heatmap(cm_rf, annot=True, fmt=\"d\", cmap=\"Blues\")\n",
        "plt.title(\"Random Forest CV Confusion Matrix\")\n",
        "plt.show()\n",
        "\n",
        "sns.heatmap(cm_xgb, annot=True, fmt=\"d\", cmap=\"Reds\")\n",
        "plt.title(\"XGBoost CV Confusion Matrix\")\n",
        "plt.show()\n"
      ],
      "metadata": {
        "id": "ADCfu0d0dtxd"
      },
      "execution_count": null,
      "outputs": []
    },
    {
      "cell_type": "markdown",
      "source": [
        "Option 2: Using cross_val_predict() (For Confusion Matrix & ROC)\n",
        "Instead of just scores, this gives predictions for every fold so you can analyze Confusion Matrix & ROC Curve."
      ],
      "metadata": {
        "id": "Je__iprBYru1"
      }
    },
    {
      "cell_type": "markdown",
      "source": [
        "here we will get 99% accuracy after cross validation"
      ],
      "metadata": {
        "id": "5_59FIMuYtqd"
      }
    }
  ]
}